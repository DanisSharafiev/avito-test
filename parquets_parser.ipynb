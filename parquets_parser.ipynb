{
 "cells": [
  {
   "cell_type": "code",
   "execution_count": 2,
   "id": "ae98fe3b",
   "metadata": {},
   "outputs": [],
   "source": [
    "import pandas as pd"
   ]
  },
  {
   "cell_type": "code",
   "execution_count": 3,
   "id": "f5d1febf",
   "metadata": {},
   "outputs": [],
   "source": [
    "path = \"parquets/\""
   ]
  },
  {
   "cell_type": "code",
   "execution_count": 4,
   "id": "92152626",
   "metadata": {},
   "outputs": [],
   "source": [
    "import os"
   ]
  },
  {
   "cell_type": "code",
   "execution_count": 5,
   "id": "5e857307",
   "metadata": {},
   "outputs": [],
   "source": [
    "paths = os.listdir(path)\n",
    "parquet_files = [f for f in paths if f.endswith(\".parquet\")]\n",
    "dfs = [pd.read_parquet(path + f) for f in parquet_files]"
   ]
  },
  {
   "cell_type": "code",
   "execution_count": 6,
   "id": "4284a5ff",
   "metadata": {},
   "outputs": [
    {
     "data": {
      "text/html": [
       "<div>\n",
       "<style scoped>\n",
       "    .dataframe tbody tr th:only-of-type {\n",
       "        vertical-align: middle;\n",
       "    }\n",
       "\n",
       "    .dataframe tbody tr th {\n",
       "        vertical-align: top;\n",
       "    }\n",
       "\n",
       "    .dataframe thead th {\n",
       "        text-align: right;\n",
       "    }\n",
       "</style>\n",
       "<table border=\"1\" class=\"dataframe\">\n",
       "  <thead>\n",
       "    <tr style=\"text-align: right;\">\n",
       "      <th></th>\n",
       "      <th>nmId</th>\n",
       "      <th>productValuation</th>\n",
       "      <th>color</th>\n",
       "      <th>text</th>\n",
       "      <th>answer</th>\n",
       "    </tr>\n",
       "  </thead>\n",
       "  <tbody>\n",
       "    <tr>\n",
       "      <th>0</th>\n",
       "      <td>0</td>\n",
       "      <td>1</td>\n",
       "      <td></td>\n",
       "      <td>5 попыток было испечь хлеб с этой муки, и оди...</td>\n",
       "      <td></td>\n",
       "    </tr>\n",
       "  </tbody>\n",
       "</table>\n",
       "</div>"
      ],
      "text/plain": [
       "   nmId  productValuation color  \\\n",
       "0     0                 1         \n",
       "\n",
       "                                                text answer  \n",
       "0   5 попыток было испечь хлеб с этой муки, и оди...         "
      ]
     },
     "execution_count": 6,
     "metadata": {},
     "output_type": "execute_result"
    }
   ],
   "source": [
    "dfs[0].head(1)"
   ]
  },
  {
   "cell_type": "code",
   "execution_count": 19,
   "id": "7abad8a2",
   "metadata": {},
   "outputs": [],
   "source": [
    "result_list = []"
   ]
  },
  {
   "cell_type": "code",
   "execution_count": 20,
   "id": "2c826fe1",
   "metadata": {},
   "outputs": [],
   "source": [
    "for df in dfs:\n",
    "    all_texts = df['text'].tolist()\n",
    "    result_text = \" \".join(all_texts).lower()\n",
    "    result_text = re.sub(r'\\n', ' ', result_text)\n",
    "    result_text = re.sub(r'[^a-zа-я0-9 ]', ' ', result_text)\n",
    "    result_text = re.sub(r'\\s+', ' ', result_text).strip()\n",
    "    result_list.append(result_text)"
   ]
  },
  {
   "cell_type": "code",
   "execution_count": 23,
   "id": "647b8c0b",
   "metadata": {},
   "outputs": [],
   "source": [
    "import re\n",
    "\n",
    "result_text = \" \".join(result_list)"
   ]
  },
  {
   "cell_type": "code",
   "execution_count": 24,
   "id": "3f7e6192",
   "metadata": {},
   "outputs": [
    {
     "data": {
      "text/plain": [
       "'5 попыток было испечь хлеб с этой муки и один результат пирог из глины 1 звезда за то что нет даты изготовления и пить прийдеться на свой страх и риск печально конечно 2 недели уже стоит так ничего и не взошло 25 07 21 получил данный товар упаковка была надорвана количество заявленных мешков сопадало с указанным на кробке по приезду домой обнаружилось что товар не соответствует заказу и не подходит к указанному мною пылесосу сама форма мешка и главное картридж для установки не соответствует зака'"
      ]
     },
     "execution_count": 24,
     "metadata": {},
     "output_type": "execute_result"
    }
   ],
   "source": [
    "result_text[:500]"
   ]
  },
  {
   "cell_type": "code",
   "execution_count": 25,
   "id": "a90978d7",
   "metadata": {},
   "outputs": [],
   "source": [
    "with open(r'result_text.txt', 'w', encoding='utf-8') as f:\n",
    "    f.write(result_text)"
   ]
  }
 ],
 "metadata": {
  "kernelspec": {
   "display_name": "Python 3",
   "language": "python",
   "name": "python3"
  },
  "language_info": {
   "codemirror_mode": {
    "name": "ipython",
    "version": 3
   },
   "file_extension": ".py",
   "mimetype": "text/x-python",
   "name": "python",
   "nbconvert_exporter": "python",
   "pygments_lexer": "ipython3",
   "version": "3.12.9"
  }
 },
 "nbformat": 4,
 "nbformat_minor": 5
}
