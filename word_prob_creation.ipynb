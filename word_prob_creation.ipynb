{
 "cells": [
  {
   "cell_type": "code",
   "execution_count": 1,
   "id": "866e1bad",
   "metadata": {},
   "outputs": [],
   "source": [
    "def clean_text(text):\n",
    "    text = text.lower()\n",
    "    text = text.replace('\\n', ' ').replace('\\r', ' ')\n",
    "    return text"
   ]
  },
  {
   "cell_type": "code",
   "execution_count": 2,
   "id": "8f56c6e8",
   "metadata": {},
   "outputs": [],
   "source": [
    "import os\n",
    "import re\n",
    "file_names = os.listdir('./texts')\n",
    "all_texts = []\n",
    "for file_name in file_names:\n",
    "    with open(os.path.join('./texts', file_name), 'r', encoding='utf-8') as f:\n",
    "        text = f.read()\n",
    "    all_texts.append(clean_text(text))\n",
    "all_texts = ' '.join(all_texts)\n",
    "all_texts = re.sub(' +', ' ', all_texts)[1:]"
   ]
  },
  {
   "cell_type": "code",
   "execution_count": 3,
   "id": "f92c5a3f",
   "metadata": {},
   "outputs": [
    {
     "name": "stdout",
     "output_type": "stream",
     "text": [
      "сотрудники милиции вечером 31 декабря уничтожили в хасавюрте четверых боевиков. об этом сообщает риа новости со ссылкой на представителей мвд дагестана. один из ликвидированных членов незаконного бандформирования - глава боевиков по имени умалат магомедов, известный также под кличкой \"альбаро\".примерно в 22:00 милиционеры попытались остановить на грозненской улице автомобиль \"жигули\" для проверки. находившиеся в машине люди начали стрелять в сотрудников правоохранительных органов и были уничтожены ответным огнем. о жертвах среди милиционеров не сообщается.на месте происшествия работают оперативники. личности остальных боевиков устанавливаются.в начале декабря представители республиканского мвд заявили, что на территории дагестана действуют шесть группировок боевиков: махачкалинская, хасавюртовско-кизилюртовская, губденская, гимринская, балаханинская и южнодагестанская. численность каждой из них, по данным милиционеров, составляет от 10 до 40 человек. президент рф дмитрий медведев назна\n"
     ]
    }
   ],
   "source": [
    "print(all_texts[:1000])"
   ]
  },
  {
   "cell_type": "code",
   "execution_count": null,
   "id": "9ea46ec9",
   "metadata": {},
   "outputs": [
    {
     "name": "stdout",
     "output_type": "stream",
     "text": [
      "['test', 'test', 'привет']\n"
     ]
    }
   ],
   "source": [
    "from collections import Counter\n",
    "\n",
    "def tokenize(text):\n",
    "    words = re.findall(r'[а-яёa-z0-9]+', text.lower())\n",
    "    return words\n",
    "\n",
    "# тут жестко считаем все слова и их частоты и потом еще и вероятность\n",
    "\n",
    "word_counts = Counter(tokenize(all_texts))\n",
    "total_words = sum(word_counts.values())\n",
    "\n",
    "word_probs = {word: count/total_words for word, count in word_counts.items()}"
   ]
  },
  {
   "cell_type": "code",
   "execution_count": 28,
   "id": "03b6957e",
   "metadata": {},
   "outputs": [],
   "source": [
    "import pickle\n",
    "\n",
    "with open('my_dict.pkl', 'wb') as f:\n",
    "    pickle.dump(word_probs, f)"
   ]
  }
 ],
 "metadata": {
  "kernelspec": {
   "display_name": "Python 3",
   "language": "python",
   "name": "python3"
  },
  "language_info": {
   "codemirror_mode": {
    "name": "ipython",
    "version": 3
   },
   "file_extension": ".py",
   "mimetype": "text/x-python",
   "name": "python",
   "nbconvert_exporter": "python",
   "pygments_lexer": "ipython3",
   "version": "3.12.9"
  }
 },
 "nbformat": 4,
 "nbformat_minor": 5
}
