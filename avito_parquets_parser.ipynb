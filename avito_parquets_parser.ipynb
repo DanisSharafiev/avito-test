{
 "cells": [
  {
   "cell_type": "code",
   "execution_count": 4,
   "id": "d1209755",
   "metadata": {},
   "outputs": [],
   "source": [
    "import os\n",
    "import pandas as pd\n",
    "\n",
    "path = \"avito_parquets/\"\n",
    "\n",
    "paths = os.listdir(path)\n",
    "parquet_files = [f for f in paths if f.endswith(\".parquet\")]\n",
    "dfs = [pd.read_parquet(path + f) for f in parquet_files]"
   ]
  },
  {
   "cell_type": "code",
   "execution_count": 5,
   "id": "47b65440",
   "metadata": {},
   "outputs": [
    {
     "name": "stdout",
     "output_type": "stream",
     "text": [
      "0 ['Смapт-чacы Huawei watch D2', 'Диcк 7x17/5x114,3 ET45 D67,1 Rebel (кc913) Хaй Вэй', 'Книги для пoдpocткoв и взpocлых. 1 книгa', 'Вocпитaтель в чacтный детcкий caд', 'Пеpфopaтop']\n"
     ]
    }
   ],
   "source": [
    "import re\n",
    "\n",
    "for i, df in enumerate(dfs):\n",
    "    with open(rf'texts/avito_result_text_{i}.txt', 'w', encoding='utf-8') as f:\n",
    "        all_texts = df['base_title'].tolist() + df['base_description'].tolist() + df['cand_description'].tolist()\n",
    "        print(i, all_texts[:5])\n",
    "        for line in all_texts:\n",
    "            line = re.sub(r'\\s+', ' ', line)\n",
    "            line = re.sub(r'\\n', ' ', line)\n",
    "            line = line.strip()\n",
    "            if not line:\n",
    "                continue\n",
    "            f.write(line + '\\n')"
   ]
  }
 ],
 "metadata": {
  "kernelspec": {
   "display_name": "Python 3",
   "language": "python",
   "name": "python3"
  },
  "language_info": {
   "codemirror_mode": {
    "name": "ipython",
    "version": 3
   },
   "file_extension": ".py",
   "mimetype": "text/x-python",
   "name": "python",
   "nbconvert_exporter": "python",
   "pygments_lexer": "ipython3",
   "version": "3.12.9"
  }
 },
 "nbformat": 4,
 "nbformat_minor": 5
}
